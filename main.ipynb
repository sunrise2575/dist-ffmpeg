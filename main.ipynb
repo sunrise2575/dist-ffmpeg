{
 "cells": [
  {
   "cell_type": "code",
   "execution_count": 1,
   "metadata": {},
   "outputs": [],
   "source": [
    "import subprocess\n",
    "import shlex\n",
    "import json\n",
    "import os\n",
    "import math\n",
    "import logging as log\n",
    "from typing import *\n",
    "import multiprocessing"
   ]
  },
  {
   "cell_type": "code",
   "execution_count": 14,
   "metadata": {},
   "outputs": [],
   "source": [
    "log.basicConfig(\n",
    "    format=\"[%(levelname)s][%(asctime)s.%(msecs)03d][%(filename)s:%(lineno)s,%(funcName)s()] %(message)s\",\n",
    "    datefmt=\"%Y-%m-%d %H:%M:%S\",\n",
    "    level=log.ERROR)"
   ]
  },
  {
   "cell_type": "markdown",
   "metadata": {},
   "source": []
  },
  {
   "cell_type": "code",
   "execution_count": 3,
   "metadata": {},
   "outputs": [],
   "source": [
    "def proc_run(arg: List[int]):\n",
    "    process = subprocess.Popen(arg,\n",
    "                                shell=True,\n",
    "                               stdin=subprocess.PIPE,\n",
    "                               stdout=subprocess.PIPE,\n",
    "                               stderr=subprocess.PIPE,\n",
    "                               encoding='CP949', # for windows\n",
    "                               universal_newlines=True)\n",
    "    (stdout, stderr) = process.communicate()\n",
    "    if len(stdout) > 0:\n",
    "        log.info(stdout)\n",
    "    if len(stderr) > 0:\n",
    "        log.error(stderr)\n",
    "    return stdout, stderr"
   ]
  },
  {
   "cell_type": "code",
   "execution_count": 10,
   "metadata": {},
   "outputs": [],
   "source": [
    "def path_listdir(dir:str):\n",
    "    for dirpath,_,filenames in os.walk(dir):\n",
    "        for f in filenames:\n",
    "            yield os.path.abspath(os.path.join(dirpath, f))\n",
    "\n",
    "def path_split(path:str) -> Tuple[str, str, str]:\n",
    "    path = os.path.abspath(path)\n",
    "    left, ext = os.path.splitext(path)\n",
    "    dir = os.path.dirname(left)\n",
    "    name = os.path.basename(left)\n",
    "    return dir, name, ext\n",
    "\n",
    "def path_join(dir:str, name:str, ext:str) -> str:\n",
    "    return os.path.join(dir, name+ext)\n",
    "\n",
    "def path_sanitize(filepath: str) -> str:\n",
    "    filepath = os.path.abspath(filepath)\n",
    "    if not os.path.exists(filepath):\n",
    "        raise FileNotFoundError\n",
    "    if os.path.isdir(filepath):\n",
    "        raise IsADirectoryError\n",
    "    return filepath"
   ]
  },
  {
   "cell_type": "code",
   "execution_count": 13,
   "metadata": {},
   "outputs": [],
   "source": [
    "def ffprobe_json(infile: str) -> json:\n",
    "    infile = path_sanitize(infile)\n",
    "    arg = shlex.split('ffprobe -v quiet -print_format json -show_streams') + [infile]\n",
    "    out, _ = proc_run(arg)\n",
    "    return json.loads(out)\n",
    "\n",
    "def ffprobe_video_time(infile: str) -> float:\n",
    "    infile = path_sanitize(infile)\n",
    "    arg = shlex.split('ffprobe -v error -select_streams v:0 -show_entries format=duration -of default=noprint_wrappers=1:nokey=1') + [infile]\n",
    "    out, _ = proc_run(arg)\n",
    "    return float(out)\n",
    "\n",
    "def ffprobe_video_frame(infile: str) -> int:\n",
    "    infile = path_sanitize(infile)\n",
    "    arg = shlex.split('ffprobe -v error -select_streams v:0 -count_packets -show_entries stream=nb_read_packets -of csv=p=0') + [infile]\n",
    "    out, _ = proc_run(arg)\n",
    "    return float(out)"
   ]
  },
  {
   "cell_type": "code",
   "execution_count": 16,
   "metadata": {},
   "outputs": [],
   "source": [
    "def ffmpeg_vp9(infile:str, outfile: str):\n",
    "    infile = path_sanitize(infile)\n",
    "    outfile = path_sanitize(outfile)\n",
    "    arg = shlex.split('ffmpeg -hide_banner -loglevel warning -y -i')+[infile]\n",
    "    arg+=shlex.split('-c:v libvpx-vp9 -b:v 0 -pix_fmt:v yuv420p -crf:v 27')+[outfile]\n",
    "    out, err = proc_run(arg)\n",
    "\n",
    "# extract and transcode audio\n",
    "def ffmpeg_audio(infile:str) -> str:\n",
    "    infile = path_sanitize(infile)\n",
    "    dir, name, _ = path_split(infile)\n",
    "    outfile = path_join(dir, name+'_temp', '.ogg')\n",
    "\n",
    "    arg = shlex.split('ffmpeg -hide_banner -loglevel warning -y -i')+[infile]\n",
    "    arg+=shlex.split('-c:a libopus -b:a 128k -map 0:a:0?')+[outfile]\n",
    "    proc_run(arg)\n",
    "    return outfile\n",
    "\n",
    "def ffmpeg_video_split(infile:str, files:int) -> str:\n",
    "    infile = path_sanitize(infile)\n",
    "    dir, name, ext = path_split(infile)\n",
    "\n",
    "    # plan for splitting video\n",
    "    time = ffprobe_video_time(infile)\n",
    "    unit_time = max(20, math.ceil(float(time) / float(files)))\n",
    "    files = math.ceil(time / unit_time)\n",
    "\n",
    "    # split video\n",
    "    arg = shlex.split('ffmpeg -hide_banner -loglevel warning -y -i')+[infile]\n",
    "    arg+=shlex.split('-f segment -segment_time') +[str(unit_time)]\n",
    "    arg+=shlex.split('-reset_timestamps 1 -c:v copy -map 0:v:0')+[path_join(dir, name+'_%d', ext)]\n",
    "    proc_run(arg)\n",
    "\n",
    "    result = [path_join(dir, name+'_'+str(i), ext) for i in range(files)]\n",
    "    for fp in list(result):\n",
    "        if not (os.path.exists(fp) and os.path.isfile(fp)):\n",
    "            result.remove(fp)\n",
    "\n",
    "    return result\n",
    "\n",
    "def ffmpeg_segment(infile:str, worker:int):\n",
    "    pass\n",
    "    # audio mux\n",
    "    #arg = shlex.split('ffmpeg -hide_banner -loglevel warning -y -i')+[infile]\n",
    "    #arg+=shlex.split('-c:a libopus -b:a 128k -map 0:a:0')+[path_join(dir, +'_temp', '.ogg')]\n",
    "    #proc_run(arg)\n",
    "        "
   ]
  },
  {
   "cell_type": "code",
   "execution_count": 17,
   "metadata": {},
   "outputs": [],
   "source": [
    "for fp in path_listdir('C:/Users/heeyong/Desktop/test'):\n",
    "    #ffmpeg_video_split(fp, 12)\n",
    "    ffmpeg_audio(fp)"
   ]
  },
  {
   "cell_type": "code",
   "execution_count": 6,
   "metadata": {},
   "outputs": [
    {
     "data": {
      "text/plain": [
       "[(1, 'a'), (2, 'a'), (3, 'a')]"
      ]
     },
     "execution_count": 6,
     "metadata": {},
     "output_type": "execute_result"
    }
   ],
   "source": [
    "list(zip([1,2,3],['a' for i in range(3)]))"
   ]
  },
  {
   "cell_type": "code",
   "execution_count": 11,
   "metadata": {},
   "outputs": [],
   "source": [
    "fps_video_encode = ['C:\\\\Users\\\\heeyong\\\\Desktop\\\\test\\\\0_video_012_encoded.webm', 'C:\\\\Users\\\\heeyong\\\\Desktop\\\\test\\\\0_video_1_encoded.webm', 'C:\\\\Users\\\\heeyong\\\\Desktop\\\\test\\\\0_video_2_encoded.webm', 'C:\\\\Users\\\\heeyong\\\\Desktop\\\\test\\\\0_video_3_encoded.webm']"
   ]
  },
  {
   "cell_type": "code",
   "execution_count": 13,
   "metadata": {},
   "outputs": [
    {
     "name": "stdout",
     "output_type": "stream",
     "text": [
      "0_video\n"
     ]
    },
    {
     "data": {
      "text/plain": [
       "'C:\\\\Users\\\\heeyong\\\\Desktop\\\\test\\\\0_video.txt'"
      ]
     },
     "execution_count": 13,
     "metadata": {},
     "output_type": "execute_result"
    }
   ],
   "source": [
    "import src.path as path\n",
    "\n",
    "dir, common_name, ext = path.split(fps_video_encode[0])\n",
    "for fp in fps_video_encode:\n",
    "    _dir, _, _ext = path.split(fp)\n",
    "    if not (_dir == dir and _ext == ext):\n",
    "        print('fuck you')\n",
    "        break\n",
    "    \n",
    "import re\n",
    "\n",
    "common_name = re.sub('_[0-9]*_encoded', '', common_name)\n",
    "print(common_name)\n",
    "path.join(dir, common_name, '.txt')"
   ]
  },
  {
   "cell_type": "code",
   "execution_count": null,
   "metadata": {},
   "outputs": [],
   "source": []
  }
 ],
 "metadata": {
  "interpreter": {
   "hash": "bf121762d4ea89af4e1b69e4d00a3d41d51a3d6170c6606db3f4817c04cfb850"
  },
  "kernelspec": {
   "display_name": "Python 3.9.6 ('base')",
   "language": "python",
   "name": "python3"
  },
  "language_info": {
   "codemirror_mode": {
    "name": "ipython",
    "version": 3
   },
   "file_extension": ".py",
   "mimetype": "text/x-python",
   "name": "python",
   "nbconvert_exporter": "python",
   "pygments_lexer": "ipython3",
   "version": "3.9.6"
  },
  "orig_nbformat": 4
 },
 "nbformat": 4,
 "nbformat_minor": 2
}
